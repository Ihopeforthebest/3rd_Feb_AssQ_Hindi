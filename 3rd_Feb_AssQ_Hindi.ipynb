{
 "cells": [
  {
   "cell_type": "code",
   "execution_count": 1,
   "id": "9b2d0515-357b-4d8f-b326-8e3b5d82d8bf",
   "metadata": {},
   "outputs": [],
   "source": [
    "# Q1. Which keyword is used to create a function? Create a function to return a list of odd numbers in the\n",
    "# range of 1 to 25."
   ]
  },
  {
   "cell_type": "code",
   "execution_count": 2,
   "id": "6d9acd50-5d1a-4747-8e60-7cd5e76626a3",
   "metadata": {},
   "outputs": [],
   "source": [
    "# Ans. 1)"
   ]
  },
  {
   "cell_type": "code",
   "execution_count": 5,
   "id": "94ac7fb2-ed01-4d3e-b53a-d0fceb021997",
   "metadata": {},
   "outputs": [],
   "source": [
    "# def keyword is used to create a function\n",
    "lst = []\n",
    "def odd():\n",
    "    for i in range(1,26):\n",
    "        if i%2==1:\n",
    "            lst.append(i)\n",
    "    return lst"
   ]
  },
  {
   "cell_type": "code",
   "execution_count": null,
   "id": "3a0d8c24-1279-4bfa-8b07-aace92637318",
   "metadata": {},
   "outputs": [],
   "source": []
  },
  {
   "cell_type": "code",
   "execution_count": null,
   "id": "80de0a79-53f0-4438-b78e-028a67824621",
   "metadata": {},
   "outputs": [],
   "source": []
  },
  {
   "cell_type": "code",
   "execution_count": null,
   "id": "4f401329-65f4-4b2f-8e10-ea6b1f6dc98b",
   "metadata": {},
   "outputs": [],
   "source": []
  },
  {
   "cell_type": "code",
   "execution_count": 7,
   "id": "2273d7a8-39ea-4170-9e5d-661ed3dc2766",
   "metadata": {},
   "outputs": [],
   "source": [
    "# Q2. Why *args and **kwargs is used in some functions? Create a function each for *args and **kwargs\n",
    "# to demonstrate their use."
   ]
  },
  {
   "cell_type": "code",
   "execution_count": 8,
   "id": "74563b09-327d-47a1-9fb7-b5fe4eb725df",
   "metadata": {},
   "outputs": [],
   "source": [
    "# Ans. 2)"
   ]
  },
  {
   "cell_type": "code",
   "execution_count": 9,
   "id": "c5d45658-112e-483b-9455-12494fdbfbbf",
   "metadata": {},
   "outputs": [],
   "source": [
    "# *args is used to pass a variable number of arguments to a function. It is used to pass a non-key worded, variable-length argument list."
   ]
  },
  {
   "cell_type": "code",
   "execution_count": 10,
   "id": "cd4b6e4b-73d7-47dd-afec-af9ccc54bbea",
   "metadata": {},
   "outputs": [],
   "source": [
    "# **kwargs is used to pass a keyworded, variable-length argument list"
   ]
  },
  {
   "cell_type": "code",
   "execution_count": 11,
   "id": "c1feea01-be2f-4afe-bdb7-920e5bf45769",
   "metadata": {},
   "outputs": [
    {
     "name": "stdout",
     "output_type": "stream",
     "text": [
      "Thank\n",
      "You\n",
      "Sudhanshu\n",
      "Sir\n"
     ]
    }
   ],
   "source": [
    "def func1(*args):\n",
    "    for a in args:\n",
    "        print (a)\n",
    "func1(\"Thank\",\"You\",\"Sudhanshu\",\"Sir\")"
   ]
  },
  {
   "cell_type": "code",
   "execution_count": 15,
   "id": "878da6a2-935e-482f-8287-46115fe64393",
   "metadata": {},
   "outputs": [
    {
     "name": "stdout",
     "output_type": "stream",
     "text": [
      "red apple\n",
      "yellow mango\n"
     ]
    }
   ],
   "source": [
    "def func2(**kwargs):\n",
    "    for key,value in kwargs.items():\n",
    "        print(key,value)\n",
    "func2(red = \"apple\", yellow = \"mango\")"
   ]
  },
  {
   "cell_type": "code",
   "execution_count": null,
   "id": "727b67c5-eb03-4169-b214-07fa734889fd",
   "metadata": {},
   "outputs": [],
   "source": []
  },
  {
   "cell_type": "code",
   "execution_count": null,
   "id": "938e03b1-8c77-4c83-a055-de41cc63f03a",
   "metadata": {},
   "outputs": [],
   "source": []
  },
  {
   "cell_type": "code",
   "execution_count": null,
   "id": "1fb94bfe-c1e1-4927-80f3-f6c98522a9fe",
   "metadata": {},
   "outputs": [],
   "source": []
  },
  {
   "cell_type": "code",
   "execution_count": 16,
   "id": "12242e92-8342-4059-8a32-2b97586d296a",
   "metadata": {},
   "outputs": [],
   "source": [
    "# Q3. What is an iterator in python? Name the method used to initialise the iterator object and the method\n",
    "# used for iteration. Use these methods to print the first five elements of the given list [2, 4, 6, 8, 10, 12, 14,\n",
    "# 16, 18, 20]."
   ]
  },
  {
   "cell_type": "code",
   "execution_count": 17,
   "id": "c463d908-ad09-4389-bce2-75f347aebcad",
   "metadata": {},
   "outputs": [],
   "source": [
    "# Ans. 3)"
   ]
  },
  {
   "cell_type": "code",
   "execution_count": 18,
   "id": "4d1ee11b-030d-48ef-b646-971c6075c5ff",
   "metadata": {},
   "outputs": [],
   "source": [
    "# An iterator is an object that contains a countable number of values. \n",
    "# Technically, in Python, an iterator is an object which implements the iterator protocol, \n",
    "# which consist of the methods __iter__() and __next__()."
   ]
  },
  {
   "cell_type": "code",
   "execution_count": 19,
   "id": "379cb71f-5fbd-43bb-a635-cf5800a527aa",
   "metadata": {},
   "outputs": [],
   "source": [
    "# iter() method is used to initialize the iterator object. next() method is used for iteration."
   ]
  },
  {
   "cell_type": "code",
   "execution_count": 24,
   "id": "4168326f-774f-4ad3-9060-e20e985b4d18",
   "metadata": {},
   "outputs": [
    {
     "name": "stdout",
     "output_type": "stream",
     "text": [
      "2\n",
      "4\n",
      "6\n",
      "8\n",
      "10\n"
     ]
    }
   ],
   "source": [
    "lst = [2, 4, 6, 8, 10, 12, 14, 16, 18, 20]\n",
    "mylst = iter(lst)\n",
    "print(next(mylst))\n",
    "print(next(mylst))\n",
    "print(next(mylst))\n",
    "print(next(mylst))\n",
    "print(next(mylst))"
   ]
  },
  {
   "cell_type": "code",
   "execution_count": null,
   "id": "c07d6408-9fb0-4028-a70d-99205943423b",
   "metadata": {},
   "outputs": [],
   "source": []
  },
  {
   "cell_type": "code",
   "execution_count": null,
   "id": "7253f16b-8493-4382-adbf-bd0ac409ebf3",
   "metadata": {},
   "outputs": [],
   "source": []
  },
  {
   "cell_type": "code",
   "execution_count": null,
   "id": "17dba057-d624-49da-81b6-d182562b37d4",
   "metadata": {},
   "outputs": [],
   "source": []
  },
  {
   "cell_type": "code",
   "execution_count": 25,
   "id": "d16d5b6a-9f8e-4a3f-8b59-e9aa7519ddf1",
   "metadata": {},
   "outputs": [],
   "source": [
    "# Q4. What is a generator function in python? Why yield keyword is used? Give an example of a generator\n",
    "# function."
   ]
  },
  {
   "cell_type": "code",
   "execution_count": 26,
   "id": "6d950117-3629-41e2-8972-7d79ae2b20a9",
   "metadata": {},
   "outputs": [],
   "source": [
    "# Ans. 4)"
   ]
  },
  {
   "cell_type": "code",
   "execution_count": 26,
   "id": "90abd5b7-a087-44f9-946b-6a1646f2286c",
   "metadata": {},
   "outputs": [],
   "source": [
    "# A generator-function is defined like a normal function, but whenever it needs to generate a value, \n",
    "# it does so with the yield keyword rather than return. \n",
    "# If the body of a def contains yield, the function automatically becomes a generator function."
   ]
  },
  {
   "cell_type": "code",
   "execution_count": 28,
   "id": "cf706c6c-9ba6-42d6-9de2-e1325d69c7c1",
   "metadata": {},
   "outputs": [],
   "source": [
    "# Yield keyword is used because it allows \n",
    "# its code to produce a series of values over time, rather than computing them at once \n",
    "# and sending them back like a list.\n",
    "# And thus it saves memory in this process as the list would require a lot of memory to get saved."
   ]
  },
  {
   "cell_type": "code",
   "execution_count": 36,
   "id": "f58184f2-d755-4a14-844e-69317c680d8d",
   "metadata": {},
   "outputs": [
    {
     "name": "stdout",
     "output_type": "stream",
     "text": [
      "134\n"
     ]
    }
   ],
   "source": [
    "def gen_func():\n",
    "    yield 134\n",
    "for i in gen_func():\n",
    "    print(i)"
   ]
  },
  {
   "cell_type": "code",
   "execution_count": null,
   "id": "ea1e5aa9-f878-41b9-aeec-c97655991a31",
   "metadata": {},
   "outputs": [],
   "source": []
  },
  {
   "cell_type": "code",
   "execution_count": null,
   "id": "1b3b2b91-7a39-4d62-946e-236567a5cb58",
   "metadata": {},
   "outputs": [],
   "source": []
  },
  {
   "cell_type": "code",
   "execution_count": null,
   "id": "31a9db24-a7f0-4dbc-9ced-70994ae99ed0",
   "metadata": {},
   "outputs": [],
   "source": []
  },
  {
   "cell_type": "code",
   "execution_count": 37,
   "id": "a1de74d1-cb48-4b8d-84f5-138d963dd1e6",
   "metadata": {},
   "outputs": [],
   "source": [
    "# Q5. Create a generator function for prime numbers less than 1000. Use the next() method to print the\n",
    "# first 20 prime numbers."
   ]
  },
  {
   "cell_type": "code",
   "execution_count": 1,
   "id": "37a703c3-679b-4fd1-bfd7-5b987e83b6a8",
   "metadata": {},
   "outputs": [],
   "source": [
    "# Ans. 5)"
   ]
  },
  {
   "cell_type": "code",
   "execution_count": 7,
   "id": "75e892ca-a6c4-4bb2-a944-a07fb0b8abea",
   "metadata": {},
   "outputs": [],
   "source": [
    "def primes():\n",
    "    yield 2\n",
    "    yield 3\n",
    "    yield 5\n",
    "    yield 7\n",
    "    \n",
    "    for num in range(11, 1000, 2):\n",
    "        if all(num % i != 0 for i in range(3, int(num**0.5) + 1, 2)):\n",
    "            yield num"
   ]
  },
  {
   "cell_type": "code",
   "execution_count": 8,
   "id": "d69926d8-d64c-4cba-b347-1a4cf84b5971",
   "metadata": {},
   "outputs": [
    {
     "name": "stdout",
     "output_type": "stream",
     "text": [
      "2\n",
      "3\n",
      "5\n",
      "7\n",
      "11\n",
      "13\n",
      "17\n",
      "19\n",
      "23\n",
      "29\n",
      "31\n",
      "37\n",
      "41\n",
      "43\n",
      "47\n",
      "53\n",
      "59\n",
      "61\n",
      "67\n",
      "71\n"
     ]
    }
   ],
   "source": [
    "def primes():\n",
    "    yield 2\n",
    "    yield 3\n",
    "    yield 5\n",
    "    yield 7\n",
    "    \n",
    "    num = 11\n",
    "    while True:\n",
    "        if all(num % i != 0 for i in range(3, int(num**0.5) + 1, 2)):\n",
    "            yield num\n",
    "        num += 2\n",
    "\n",
    "prime_gen = primes()\n",
    "\n",
    "for i in range(20):\n",
    "    print(next(prime_gen))\n"
   ]
  },
  {
   "cell_type": "code",
   "execution_count": null,
   "id": "495f1863-6d03-4c21-8b90-4981092590dc",
   "metadata": {},
   "outputs": [],
   "source": []
  },
  {
   "cell_type": "code",
   "execution_count": null,
   "id": "9433d5e4-6752-4a62-8f15-f25251c7fa85",
   "metadata": {},
   "outputs": [],
   "source": []
  },
  {
   "cell_type": "code",
   "execution_count": null,
   "id": "feb94a0f-bc15-48b9-9f42-1284db9cf493",
   "metadata": {},
   "outputs": [],
   "source": []
  },
  {
   "cell_type": "code",
   "execution_count": 9,
   "id": "2591b333-f366-43cf-83a7-a8f5016df46d",
   "metadata": {},
   "outputs": [],
   "source": [
    "# Q6. Write a python program to print the first 10 Fibonacci numbers using a while loop."
   ]
  },
  {
   "cell_type": "code",
   "execution_count": 10,
   "id": "149c4f2a-ae75-4271-8aba-72487509605d",
   "metadata": {},
   "outputs": [],
   "source": [
    "# Ans. 6)"
   ]
  },
  {
   "cell_type": "code",
   "execution_count": 11,
   "id": "bd2b35dd-16f2-4f46-949b-09cbbdbcc06d",
   "metadata": {},
   "outputs": [
    {
     "name": "stdout",
     "output_type": "stream",
     "text": [
      "0\n",
      "1\n",
      "1\n",
      "2\n",
      "3\n",
      "5\n",
      "8\n",
      "13\n",
      "21\n",
      "34\n"
     ]
    }
   ],
   "source": [
    "a, b = 0, 1\n",
    "count = 0\n",
    "\n",
    "while count < 10:\n",
    "    print(a)\n",
    "    a, b = b, a + b\n",
    "    count += 1\n"
   ]
  },
  {
   "cell_type": "code",
   "execution_count": null,
   "id": "6303c7d3-fd62-4238-8f5c-85f1c90f3c05",
   "metadata": {},
   "outputs": [],
   "source": []
  },
  {
   "cell_type": "code",
   "execution_count": null,
   "id": "d11a9af2-58df-45a8-bcdc-c8a28e3d877d",
   "metadata": {},
   "outputs": [],
   "source": []
  },
  {
   "cell_type": "code",
   "execution_count": null,
   "id": "48c4be0a-a06b-46db-87eb-591f58e4076c",
   "metadata": {},
   "outputs": [],
   "source": []
  },
  {
   "cell_type": "code",
   "execution_count": null,
   "id": "ab9415c2-a834-4156-a521-8bb62dc00edf",
   "metadata": {},
   "outputs": [],
   "source": [
    "# Q7. Write a List Comprehension to iterate through the given string: ‘pwskills’.\n",
    "# Expected output: ['p', 'w', 's', 'k', 'i', 'l', 'l', 's']"
   ]
  },
  {
   "cell_type": "code",
   "execution_count": 12,
   "id": "9f127c83-d740-4ad3-bc00-41b94b3940e4",
   "metadata": {},
   "outputs": [],
   "source": [
    "# Ans. 7)"
   ]
  },
  {
   "cell_type": "code",
   "execution_count": 14,
   "id": "19dd42fa-93c1-4afb-9a7b-254dd0c2d70f",
   "metadata": {},
   "outputs": [
    {
     "name": "stdout",
     "output_type": "stream",
     "text": [
      "['p', 'w', 's', 'k', 'i', 'l', 'l', 's']\n"
     ]
    }
   ],
   "source": [
    "string = 'pwskills'\n",
    "\n",
    "result = [char for i, char in enumerate(string)]\n",
    "\n",
    "print(result)\n"
   ]
  },
  {
   "cell_type": "code",
   "execution_count": null,
   "id": "0bf0745f-c466-4e89-b615-5da8bf736bed",
   "metadata": {},
   "outputs": [],
   "source": []
  },
  {
   "cell_type": "code",
   "execution_count": null,
   "id": "fe70fdbd-e13d-4524-8659-96993bcabefa",
   "metadata": {},
   "outputs": [],
   "source": []
  },
  {
   "cell_type": "code",
   "execution_count": null,
   "id": "f70a6065-72c7-4ff9-8caa-a7ba3db2bcb0",
   "metadata": {},
   "outputs": [],
   "source": []
  },
  {
   "cell_type": "code",
   "execution_count": 15,
   "id": "5122d1c5-62a8-4c63-939c-7612476b4488",
   "metadata": {},
   "outputs": [],
   "source": [
    "# Q8. Write a python program to check whether a given number is Palindrome or not using a while loop."
   ]
  },
  {
   "cell_type": "code",
   "execution_count": 16,
   "id": "63e8754c-0e99-4d17-9018-d5780e7eba15",
   "metadata": {},
   "outputs": [],
   "source": [
    "# Ans. 8)"
   ]
  },
  {
   "cell_type": "code",
   "execution_count": 17,
   "id": "16216d89-073a-49ab-8786-650ec530bb38",
   "metadata": {},
   "outputs": [
    {
     "name": "stdin",
     "output_type": "stream",
     "text": [
      "Enter a number:  20222202\n"
     ]
    },
    {
     "name": "stdout",
     "output_type": "stream",
     "text": [
      "The number is a palindrome.\n"
     ]
    }
   ],
   "source": [
    "num = int(input(\"Enter a number: \"))\n",
    "\n",
    "original_num = num\n",
    "\n",
    "reverse_num = 0\n",
    "while num > 0:\n",
    "    digit = num % 10\n",
    "    reverse_num = reverse_num * 10 + digit\n",
    "    num = num // 10\n",
    "    \n",
    "if original_num == reverse_num:\n",
    "    print(\"The number is a palindrome.\")\n",
    "else:\n",
    "    print(\"The number is not a palindrome.\")\n"
   ]
  },
  {
   "cell_type": "code",
   "execution_count": null,
   "id": "43cd3e16-0aaa-4056-8a89-e85bfaaa3581",
   "metadata": {},
   "outputs": [],
   "source": []
  },
  {
   "cell_type": "code",
   "execution_count": null,
   "id": "a3bc2ef0-ea5a-4291-be63-ce014fe61b25",
   "metadata": {},
   "outputs": [],
   "source": []
  },
  {
   "cell_type": "code",
   "execution_count": null,
   "id": "d8704e8a-edd5-4fd4-9189-8b6dfd5fe9a6",
   "metadata": {},
   "outputs": [],
   "source": []
  },
  {
   "cell_type": "code",
   "execution_count": 18,
   "id": "3902c041-b348-4ea0-a1ea-3cd1dd4911a8",
   "metadata": {},
   "outputs": [],
   "source": [
    "# Q9. Write a code to print odd numbers from 1 to 100 using list comprehension.\n",
    "# Note: Use a list comprehension to create a list from 1 to 100 and use another List comprehension to filter\n",
    "# out odd numbers."
   ]
  },
  {
   "cell_type": "code",
   "execution_count": 20,
   "id": "0e7a8742-0d91-4ab3-ad15-cc2a818929c9",
   "metadata": {},
   "outputs": [],
   "source": [
    "# Ans. 9)"
   ]
  },
  {
   "cell_type": "code",
   "execution_count": 21,
   "id": "95f042b9-09d7-412e-9866-7de3a7a81abb",
   "metadata": {},
   "outputs": [
    {
     "name": "stdout",
     "output_type": "stream",
     "text": [
      "[1, 2, 3, 4, 5, 6, 7, 8, 9, 10, 11, 12, 13, 14, 15, 16, 17, 18, 19, 20, 21, 22, 23, 24, 25, 26, 27, 28, 29, 30, 31, 32, 33, 34, 35, 36, 37, 38, 39, 40, 41, 42, 43, 44, 45, 46, 47, 48, 49, 50, 51, 52, 53, 54, 55, 56, 57, 58, 59, 60, 61, 62, 63, 64, 65, 66, 67, 68, 69, 70, 71, 72, 73, 74, 75, 76, 77, 78, 79, 80, 81, 82, 83, 84, 85, 86, 87, 88, 89, 90, 91, 92, 93, 94, 95, 96, 97, 98, 99, 100]\n"
     ]
    }
   ],
   "source": [
    "my_list = [i for i in range(1, 101)]\n",
    "print(my_list)"
   ]
  },
  {
   "cell_type": "code",
   "execution_count": 24,
   "id": "6bf41215-7876-45fe-9da3-987713c8ff4b",
   "metadata": {},
   "outputs": [
    {
     "name": "stdout",
     "output_type": "stream",
     "text": [
      "[1, 3, 5, 7, 9, 11, 13, 15, 17, 19, 21, 23, 25, 27, 29, 31, 33, 35, 37, 39, 41, 43, 45, 47, 49, 51, 53, 55, 57, 59, 61, 63, 65, 67, 69, 71, 73, 75, 77, 79, 81, 83, 85, 87, 89, 91, 93, 95, 97, 99]\n"
     ]
    }
   ],
   "source": [
    "result = [i for i in range(len(my_list)) if i%2 == 1]\n",
    "print (result)"
   ]
  }
 ],
 "metadata": {
  "kernelspec": {
   "display_name": "Python 3 (ipykernel)",
   "language": "python",
   "name": "python3"
  },
  "language_info": {
   "codemirror_mode": {
    "name": "ipython",
    "version": 3
   },
   "file_extension": ".py",
   "mimetype": "text/x-python",
   "name": "python",
   "nbconvert_exporter": "python",
   "pygments_lexer": "ipython3",
   "version": "3.10.8"
  }
 },
 "nbformat": 4,
 "nbformat_minor": 5
}
